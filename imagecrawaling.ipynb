{
 "cells": [
  {
   "cell_type": "code",
   "execution_count": null,
   "metadata": {},
   "outputs": [],
   "source": [
    "import os\n",
    "import requests\n",
    "from bs4 import BeautifulSoup\n",
    "from urllib.parse import urlparse, urljoin\n",
    "\n",
    "# 크롤링할 블로그 URL\n",
    "blog_url = \"블로그 URL\"\n",
    "\n",
    "# 크롤링할 이미지 저장 경로\n",
    "save_directory = \"이미지 저장 경로\"\n",
    "\n",
    "# HTTP GET 요청\n",
    "response = requests.get(blog_url)\n",
    "\n",
    "# BeautifulSoup을 사용하여 HTML 파싱\n",
    "soup = BeautifulSoup(response.text, \"html.parser\")\n",
    "\n",
    "# 이미지 태그 추출\n",
    "image_tags = soup.find_all(\"img\")\n",
    "\n",
    "# 이미지 다운로드 함수 정의\n",
    "def download_image(url):\n",
    "    # 이미지 파일 이름 추출\n",
    "    image_filename = os.path.basename(urlparse(url).path)\n",
    "    \n",
    "    # 이미지 다운로드 요청\n",
    "    response = requests.get(url, stream=True)\n",
    "    \n",
    "    # 이미지 저장 경로 설정\n",
    "    save_path = os.path.join(save_directory, image_filename)\n",
    "    \n",
    "    # 이미지 파일 저장\n",
    "    with open(save_path, \"wb\") as file:\n",
    "        for chunk in response.iter_content(chunk_size=1024):\n",
    "            if chunk:\n",
    "                file.write(chunk)\n",
    "\n",
    "# 이미지 크롤링 및 다운로드\n",
    "for tag in image_tags:\n",
    "    # 이미지 URL 추출\n",
    "    image_url = urljoin(blog_url, tag[\"src\"])\n",
    "    \n",
    "    # 이미지 다운로드\n",
    "    download_image(image_url)\n"
   ]
  }
 ],
 "metadata": {
  "language_info": {
   "name": "python"
  },
  "orig_nbformat": 4
 },
 "nbformat": 4,
 "nbformat_minor": 2
}
