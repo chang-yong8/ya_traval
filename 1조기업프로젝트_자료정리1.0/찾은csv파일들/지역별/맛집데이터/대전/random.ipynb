{
 "cells": [
  {
   "cell_type": "code",
   "execution_count": 1,
   "metadata": {},
   "outputs": [
    {
     "name": "stdout",
     "output_type": "stream",
     "text": [
      "      순위        업소명                     주소     분류  현지인 검색 수\n",
      "27    28    연선흠베이커리  대전 유성구 지족로148번길 39-23   간이음식      3796\n",
      "45    46    어거스트홍미당       대전 유성구 하기로 34-21   간이음식      2914\n",
      "66    66     랑만[중식]  대전 서구 원도안로179번길 22-28    외국식      2483\n",
      "118  119        진월당       대전 유성구 봉명서로 27-4     한식      1853\n",
      "128  129  망향비빔국수유성점   대전 유성구 노은동로75번길 74-0     한식      1797\n",
      "175  176    바질리코관저점    대전 서구 관저중로64번길 26-0    외국식      1347\n",
      "196  197    하레하레둔산점        대전 서구 둔산로 155-0   간이음식      1209\n",
      "281  282       라끄블루   대전 동구 회남로275번길 161-0  카페/찻집       528\n",
      "291  291    예지원[한식]    대전 중구 중앙로16번길 27-17     한식       515\n",
      "365  366  황기왕짬뽕[중식]   대전 대덕구 중리북로37번길 65-0    외국식       353\n"
     ]
    }
   ],
   "source": [
    "import pandas as pd\n",
    "import random\n",
    "\n",
    "# CSV 파일 경로\n",
    "csv_file_path = \"대전광역시.csv\"\n",
    "\n",
    "# 추출할 컬럼 이름\n",
    "target_column = \"업소명\"\n",
    "\n",
    "# CSV 파일 읽기\n",
    "df = pd.read_csv(csv_file_path)\n",
    "\n",
    "# 해당 컬럼의 고유한 값 추출\n",
    "unique_values = df[target_column].unique()\n",
    "\n",
    "# 고유한 값에서 10개를 랜덤으로 선택\n",
    "random_values = random.sample(list(unique_values), k=10)\n",
    "\n",
    "# 랜덤으로 선택된 값에 해당하는 행 추출\n",
    "result = df[df[target_column].isin(random_values)]\n",
    "\n",
    "# 결과 출력\n",
    "print(result)\n"
   ]
  },
  {
   "cell_type": "code",
   "execution_count": null,
   "metadata": {},
   "outputs": [],
   "source": []
  }
 ],
 "metadata": {
  "kernelspec": {
   "display_name": "gj_django_kernel",
   "language": "python",
   "name": "gj_django"
  },
  "language_info": {
   "codemirror_mode": {
    "name": "ipython",
    "version": 3
   },
   "file_extension": ".py",
   "mimetype": "text/x-python",
   "name": "python",
   "nbconvert_exporter": "python",
   "pygments_lexer": "ipython3",
   "version": "3.9.16"
  },
  "orig_nbformat": 4
 },
 "nbformat": 4,
 "nbformat_minor": 2
}
