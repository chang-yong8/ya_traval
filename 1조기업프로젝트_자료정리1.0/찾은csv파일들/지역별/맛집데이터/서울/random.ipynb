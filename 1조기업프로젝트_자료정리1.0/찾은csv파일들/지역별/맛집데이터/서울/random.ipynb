{
 "cells": [
  {
   "cell_type": "code",
   "execution_count": 1,
   "metadata": {},
   "outputs": [
    {
     "name": "stdout",
     "output_type": "stream",
     "text": [
      "        순위               업소명                    주소     분류  현지인 검색 수\n",
      "55      56  오리지널팬케이크하우스가로수길점  서울 강남구 강남대로162길 41-0   전문음식      5276\n",
      "468    469             고성막국수    서울 강서구 방화대로49길 6-7     한식      1707\n",
      "735    736          용두동쭈꾸미본점   서울 동대문구 무학로36길 10-0   전문음식      1215\n",
      "884    885       가산물갈비&백년불고기  서울 금천구 가산디지털1로 128-0     한식       993\n",
      "1042  1042              이도맨숀    서울 영등포구 국회대로 794-0     한식       838\n",
      "1325  1326              백제갈비      서울 동작구 사당로 231-0     한식       613\n",
      "1399  1400             자하싸리집      서울 종로구 진흥로 463-0     한식       554\n",
      "1549  1550           신락원[중식]    서울 동대문구 전농로20길 2-0    외국식       458\n",
      "1673  1674            장안순대국밥     서울 동대문구 고미술로 81-0     한식       386\n",
      "1776  1777              디어코코     서울 중구 동호로12길 88-0  카페/찻집       328\n"
     ]
    }
   ],
   "source": [
    "import pandas as pd\n",
    "import random\n",
    "\n",
    "# CSV 파일 경로\n",
    "csv_file_path = \"서울특별시.csv\"\n",
    "\n",
    "# 추출할 컬럼 이름\n",
    "target_column = \"업소명\"\n",
    "\n",
    "# CSV 파일 읽기\n",
    "df = pd.read_csv(csv_file_path)\n",
    "\n",
    "# 해당 컬럼의 고유한 값 추출\n",
    "unique_values = df[target_column].unique()\n",
    "\n",
    "# 고유한 값에서 10개를 랜덤으로 선택\n",
    "random_values = random.sample(list(unique_values), k=10)\n",
    "\n",
    "# 랜덤으로 선택된 값에 해당하는 행 추출\n",
    "result = df[df[target_column].isin(random_values)]\n",
    "\n",
    "# 결과 출력\n",
    "print(result)\n"
   ]
  },
  {
   "cell_type": "code",
   "execution_count": null,
   "metadata": {},
   "outputs": [],
   "source": []
  }
 ],
 "metadata": {
  "kernelspec": {
   "display_name": "gj_django_kernel",
   "language": "python",
   "name": "gj_django"
  },
  "language_info": {
   "codemirror_mode": {
    "name": "ipython",
    "version": 3
   },
   "file_extension": ".py",
   "mimetype": "text/x-python",
   "name": "python",
   "nbconvert_exporter": "python",
   "pygments_lexer": "ipython3",
   "version": "3.9.16"
  },
  "orig_nbformat": 4
 },
 "nbformat": 4,
 "nbformat_minor": 2
}
