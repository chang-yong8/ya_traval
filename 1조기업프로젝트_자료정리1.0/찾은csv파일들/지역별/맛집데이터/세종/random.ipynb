{
 "cells": [
  {
   "cell_type": "code",
   "execution_count": 2,
   "metadata": {},
   "outputs": [
    {
     "name": "stdout",
     "output_type": "stream",
     "text": [
      "    순위          업소명               주소     분류  현지인 검색 수\n",
      "12  13          어작교     세종시 아름서길 3-0     한식         0\n",
      "15  16  자금성세종점 [중식]  세종시 한누리대로 283-0    외국식         0\n",
      "17  18        행복한곰탕    세종시 절재로 194-0     한식         0\n",
      "39  40         도담한우    세종시 보듬3로 8-15     한식         0\n",
      "45  46      왕천파닭부강점     세종시 부강로 35-1   간이음식         0\n",
      "47  48       세종푸드타운    세종시 장기로 875-0  음식점기타         0\n",
      "49  50   두끼떡볶이세종종촌점   세종시 도움3로 105-5   간이음식         0\n",
      "53  54         굴이야기     세종시 섭골길 23-0   전문음식         0\n",
      "54  55    달콤커피세종청사점   세종시 도움8로 11-11  카페/찻집         0\n",
      "66  67  빽다방세종시정부청사점   세종시 도움8로 11-11  카페/찻집         0\n",
      "82  83         굴이야기    세종시 절재로 194-0   전문음식         0\n"
     ]
    }
   ],
   "source": [
    "import pandas as pd\n",
    "import random\n",
    "\n",
    "# CSV 파일 경로\n",
    "csv_file_path = \"세종.csv\"\n",
    "\n",
    "# 추출할 컬럼 이름\n",
    "target_column = \"업소명\"\n",
    "\n",
    "# CSV 파일 읽기\n",
    "df = pd.read_csv(csv_file_path,encoding='cp949')\n",
    "\n",
    "# 해당 컬럼의 고유한 값 추출\n",
    "unique_values = df[target_column].unique()\n",
    "\n",
    "# 고유한 값에서 10개를 랜덤으로 선택\n",
    "random_values = random.sample(list(unique_values), k=10)\n",
    "\n",
    "# 랜덤으로 선택된 값에 해당하는 행 추출\n",
    "result = df[df[target_column].isin(random_values)]\n",
    "\n",
    "# 결과 출력\n",
    "print(result)\n"
   ]
  },
  {
   "cell_type": "code",
   "execution_count": null,
   "metadata": {},
   "outputs": [],
   "source": []
  }
 ],
 "metadata": {
  "kernelspec": {
   "display_name": "gj_django_kernel",
   "language": "python",
   "name": "gj_django"
  },
  "language_info": {
   "codemirror_mode": {
    "name": "ipython",
    "version": 3
   },
   "file_extension": ".py",
   "mimetype": "text/x-python",
   "name": "python",
   "nbconvert_exporter": "python",
   "pygments_lexer": "ipython3",
   "version": "3.9.16"
  },
  "orig_nbformat": 4
 },
 "nbformat": 4,
 "nbformat_minor": 2
}
