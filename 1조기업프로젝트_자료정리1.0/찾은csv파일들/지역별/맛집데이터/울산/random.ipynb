{
 "cells": [
  {
   "cell_type": "code",
   "execution_count": 1,
   "metadata": {},
   "outputs": [
    {
     "name": "stdout",
     "output_type": "stream",
     "text": [
      "     순위        업소명                    주소     분류  현지인 검색 수\n",
      "17   18        와사비       울산 남구 정동로 117-0    외국식      2257\n",
      "38   39   대복축산삼산지점       울산 남구 화합로 186-1     한식      1519\n",
      "48   49       게스트로  울산 남구 삼산중로84번길 11-13   전문음식      1454\n",
      "121  41     커피명가슬도        울산 동구 성끝길 74-0  카페/찻집       407\n",
      "159  79    천안문[중식]       울산 동구 화진2길 39-0    외국식       220\n",
      "179  12  샤브20울산북구점        울산 북구 매산4로 5-0   전문음식      2162\n",
      "227  60       장어라인       울산 북구 송정36길 4-0   전문음식       906\n",
      "235  68  강릉할머니손칼국수        울산 북구 약수2길 6-3     한식       799\n",
      "311  60       발리정원    울산 울주군 선양골길 105-16  카페/찻집       842\n",
      "398  55   샬로우커피성남점       울산 중구 중앙길 171-1  카페/찻집       424\n"
     ]
    }
   ],
   "source": [
    "import pandas as pd\n",
    "import random\n",
    "\n",
    "# CSV 파일 경로\n",
    "csv_file_path = \"울산광역시.csv\"\n",
    "\n",
    "# 추출할 컬럼 이름\n",
    "target_column = \"업소명\"\n",
    "\n",
    "# CSV 파일 읽기\n",
    "df = pd.read_csv(csv_file_path)\n",
    "\n",
    "# 해당 컬럼의 고유한 값 추출\n",
    "unique_values = df[target_column].unique()\n",
    "\n",
    "# 고유한 값에서 10개를 랜덤으로 선택\n",
    "random_values = random.sample(list(unique_values), k=10)\n",
    "\n",
    "# 랜덤으로 선택된 값에 해당하는 행 추출\n",
    "result = df[df[target_column].isin(random_values)]\n",
    "\n",
    "# 결과 출력\n",
    "print(result)\n"
   ]
  },
  {
   "cell_type": "code",
   "execution_count": null,
   "metadata": {},
   "outputs": [],
   "source": []
  }
 ],
 "metadata": {
  "kernelspec": {
   "display_name": "gj_django_kernel",
   "language": "python",
   "name": "gj_django"
  },
  "language_info": {
   "codemirror_mode": {
    "name": "ipython",
    "version": 3
   },
   "file_extension": ".py",
   "mimetype": "text/x-python",
   "name": "python",
   "nbconvert_exporter": "python",
   "pygments_lexer": "ipython3",
   "version": "3.9.16"
  },
  "orig_nbformat": 4
 },
 "nbformat": 4,
 "nbformat_minor": 2
}
