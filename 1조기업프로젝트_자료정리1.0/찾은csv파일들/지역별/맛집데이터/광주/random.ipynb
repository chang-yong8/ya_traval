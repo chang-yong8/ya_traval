{
 "cells": [
  {
   "cell_type": "code",
   "execution_count": 1,
   "metadata": {},
   "outputs": [
    {
     "name": "stdout",
     "output_type": "stream",
     "text": [
      "      순위          업소명                      주소     분류  현지인 검색 수\n",
      "26    27      남쪽마을돌짜장        광주 광산구 임곡로 523-7    외국식      3397\n",
      "39    40         비바로마        광주 서구 상무누리로 20-0    외국식      3007\n",
      "124  125          보향미  광주 광산구 첨단중앙로124번길 41-0     한식      1637\n",
      "166  167   금수저은수저[한식]    광주 광산구 신창로166번길 24-0     한식      1424\n",
      "194  195         농성화로     광주 서구 군분로221번길 2-16     한식      1300\n",
      "226  226   오얏리돌솥밥[한식]         광주 북구 밤실로 178-0     한식      1122\n",
      "293  294    제주흑돈하루노대점     광주 남구 효우로130번길 56-0     한식       603\n",
      "365  366         동명더밥          광주 동구 동명로 59-0    외국식       340\n",
      "374  375    광양숯불구이지산점        광주 동구 필문대로 229-0     한식       292\n",
      "393  394  프랭크커핀바광주동명점      광주 동구 동명로14번길 15-0  카페/찻집       239\n"
     ]
    }
   ],
   "source": [
    "import pandas as pd\n",
    "import random\n",
    "\n",
    "# CSV 파일 경로\n",
    "csv_file_path = \"광주광역시.csv\"\n",
    "\n",
    "# 추출할 컬럼 이름\n",
    "target_column = \"업소명\"\n",
    "\n",
    "# CSV 파일 읽기\n",
    "df = pd.read_csv(csv_file_path)\n",
    "\n",
    "# 해당 컬럼의 고유한 값 추출\n",
    "unique_values = df[target_column].unique()\n",
    "\n",
    "# 고유한 값에서 10개를 랜덤으로 선택\n",
    "random_values = random.sample(list(unique_values), k=10)\n",
    "\n",
    "# 랜덤으로 선택된 값에 해당하는 행 추출\n",
    "result = df[df[target_column].isin(random_values)]\n",
    "\n",
    "# 결과 출력\n",
    "print(result)\n"
   ]
  },
  {
   "cell_type": "code",
   "execution_count": null,
   "metadata": {},
   "outputs": [],
   "source": []
  }
 ],
 "metadata": {
  "kernelspec": {
   "display_name": "gj_django_kernel",
   "language": "python",
   "name": "gj_django"
  },
  "language_info": {
   "codemirror_mode": {
    "name": "ipython",
    "version": 3
   },
   "file_extension": ".py",
   "mimetype": "text/x-python",
   "name": "python",
   "nbconvert_exporter": "python",
   "pygments_lexer": "ipython3",
   "version": "3.9.16"
  },
  "orig_nbformat": 4
 },
 "nbformat": 4,
 "nbformat_minor": 2
}
