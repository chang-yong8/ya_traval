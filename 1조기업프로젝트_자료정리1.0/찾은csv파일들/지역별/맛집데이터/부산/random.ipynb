{
 "cells": [
  {
   "cell_type": "code",
   "execution_count": 1,
   "metadata": {},
   "outputs": [
    {
     "name": "stdout",
     "output_type": "stream",
     "text": [
      "        순위           업소명                      주소     분류  현지인 검색 수\n",
      "134    135        톤쇼우광안점  부산 수영구 광안해변로279번길 13-0   전문음식      2039\n",
      "232    233       키치니토송정점   부산 해운대구 송정중앙로5번길 98-0   전문음식      1497\n",
      "358    359         흥부네화덕       부산 북구 용당로20번길 6-0   간이음식      1079\n",
      "473    474     채선당플러스연산점      부산 연제구 중앙대로 1125-0   전문음식       828\n",
      "683    684   맛찬들왕소금구이사상점     부산 사상구 광장로81번길 30-0     한식       490\n",
      "767    767          고집불통       부산 사상구 백양대로 463-0     한식       416\n",
      "880    878         부잣집식당   부산 연제구 거제대로272번길 23-0     한식       346\n",
      "1036  1037  오복미역연산점 [한식]  부산 연제구 월드컵대로145번길 19-0     한식       240\n",
      "1144  1145         안락다락방        부산 영도구 하나길 894-0  카페/찻집       126\n",
      "1173  1172         지리산어탕         부산 서구 엄광산로 29-0     한식       107\n"
     ]
    }
   ],
   "source": [
    "import pandas as pd\n",
    "import random\n",
    "\n",
    "# CSV 파일 경로\n",
    "csv_file_path = \"부산광역시.csv\"\n",
    "\n",
    "# 추출할 컬럼 이름\n",
    "target_column = \"업소명\"\n",
    "\n",
    "# CSV 파일 읽기\n",
    "df = pd.read_csv(csv_file_path)\n",
    "\n",
    "# 해당 컬럼의 고유한 값 추출\n",
    "unique_values = df[target_column].unique()\n",
    "\n",
    "# 고유한 값에서 10개를 랜덤으로 선택\n",
    "random_values = random.sample(list(unique_values), k=10)\n",
    "\n",
    "# 랜덤으로 선택된 값에 해당하는 행 추출\n",
    "result = df[df[target_column].isin(random_values)]\n",
    "\n",
    "# 결과 출력\n",
    "print(result)\n"
   ]
  },
  {
   "cell_type": "code",
   "execution_count": null,
   "metadata": {},
   "outputs": [],
   "source": []
  }
 ],
 "metadata": {
  "kernelspec": {
   "display_name": "gj_django_kernel",
   "language": "python",
   "name": "gj_django"
  },
  "language_info": {
   "codemirror_mode": {
    "name": "ipython",
    "version": 3
   },
   "file_extension": ".py",
   "mimetype": "text/x-python",
   "name": "python",
   "nbconvert_exporter": "python",
   "pygments_lexer": "ipython3",
   "version": "3.9.16"
  },
  "orig_nbformat": 4
 },
 "nbformat": 4,
 "nbformat_minor": 2
}
