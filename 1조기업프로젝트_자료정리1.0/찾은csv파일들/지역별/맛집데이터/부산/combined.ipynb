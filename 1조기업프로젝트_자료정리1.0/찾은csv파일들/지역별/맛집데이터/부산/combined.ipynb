{
 "cells": [
  {
   "cell_type": "code",
   "execution_count": 1,
   "metadata": {},
   "outputs": [
    {
     "name": "stdout",
     "output_type": "stream",
     "text": [
      "파일이 성공적으로 병합되어 결과 파일로 저장되었습니다.\n"
     ]
    }
   ],
   "source": [
    "import pandas as pd\n",
    "import glob\n",
    "\n",
    "# 병합할 데이터 파일들이 저장된 디렉토리 경로\n",
    "directory_path = \"C:/ya_traval/1조기업프로젝트_자료정리1.0/찾은csv파일들/지역별/맛집데이터/부산/*.csv\"\n",
    "\n",
    "# 디렉토리에서 데이터 파일들을 읽어들임\n",
    "file_paths = glob.glob(directory_path)\n",
    "\n",
    "# 빈 DataFrame 생성\n",
    "combined_data = pd.DataFrame()\n",
    "\n",
    "# 파일들을 순회하며 읽어들임\n",
    "for file_path in file_paths:\n",
    "    try:\n",
    "        # 파일 읽기\n",
    "        df = pd.read_csv(file_path, encoding='cp949')\n",
    "        # 읽어들인 파일을 기존 DataFrame과 병합\n",
    "        combined_data = pd.concat([combined_data, df], ignore_index=True)\n",
    "    except pd.errors.EmptyDataError:\n",
    "        print(f\"파일 '{file_path}'은(는) 비어있어서 무시합니다.\")\n",
    "    except pd.errors.ParserError:\n",
    "        print(f\"파일 '{file_path}'을(를) 파싱하는 동안 오류가 발생하여 무시합니다.\")\n",
    "\n",
    "if not combined_data.empty:\n",
    "    # 병합된 데이터를 하나의 CSV 파일로 저장\n",
    "    combined_data.to_csv(\"C:/ya_traval/1조기업프로젝트_자료정리1.0/찾은csv파일들/지역별/맛집데이터/부산/부산광역시.csv\", index=False)\n",
    "    print(\"파일이 성공적으로 병합되어 결과 파일로 저장되었습니다.\")\n",
    "\n"
   ]
  },
  {
   "cell_type": "code",
   "execution_count": null,
   "metadata": {},
   "outputs": [],
   "source": []
  }
 ],
 "metadata": {
  "kernelspec": {
   "display_name": "gj_django_kernel",
   "language": "python",
   "name": "gj_django"
  },
  "language_info": {
   "codemirror_mode": {
    "name": "ipython",
    "version": 3
   },
   "file_extension": ".py",
   "mimetype": "text/x-python",
   "name": "python",
   "nbconvert_exporter": "python",
   "pygments_lexer": "ipython3",
   "version": "3.9.16"
  },
  "orig_nbformat": 4
 },
 "nbformat": 4,
 "nbformat_minor": 2
}
