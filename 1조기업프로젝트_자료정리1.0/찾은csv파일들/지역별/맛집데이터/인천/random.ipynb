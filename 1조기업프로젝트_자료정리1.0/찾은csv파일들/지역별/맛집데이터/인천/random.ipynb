{
 "cells": [
  {
   "cell_type": "code",
   "execution_count": 1,
   "metadata": {},
   "outputs": [
    {
     "name": "stdout",
     "output_type": "stream",
     "text": [
      "      순위          업소명                     주소     분류  현지인 검색 수\n",
      "143  144  진천토종순대가좌동본점        인천 서구 신진말로 37-0     한식      3095\n",
      "184  185   뚜띠쿠치나미단시티점  인천 중구 미단뉴타운로26번길 21-0    외국식      2672\n",
      "250  251   풍천민물장어 이억집      인천 계양구 장제로 1070-0   전문음식      2280\n",
      "294  295     청라가야밀면국밥   인천 서구 청라라임로138번길 4-7     한식      2050\n",
      "307  307          쏠마레   인천 중구 영종대로566번길 15-0  카페/찻집      1973\n",
      "317  318       스시애2호점    인천 부평구 부평대로87번길 4-0    외국식      1812\n",
      "321  322     소담촌계양구청점      인천 계양구 계양문화로 54-0   전문음식      1788\n",
      "517  518       인동잔치국수        인천 계양구 효서로 31-1   간이음식       852\n",
      "590  590     대청마루[한식]     인천 미추홀구 매소홀로 382-0     한식       651\n",
      "674  675    수문통짬뽕[중식]        인천 동구 수문통로 41-0    외국식       363\n"
     ]
    }
   ],
   "source": [
    "import pandas as pd\n",
    "import random\n",
    "\n",
    "# CSV 파일 경로\n",
    "csv_file_path = \"인천광역시.csv\"\n",
    "\n",
    "# 추출할 컬럼 이름\n",
    "target_column = \"업소명\"\n",
    "\n",
    "# CSV 파일 읽기\n",
    "df = pd.read_csv(csv_file_path)\n",
    "\n",
    "# 해당 컬럼의 고유한 값 추출\n",
    "unique_values = df[target_column].unique()\n",
    "\n",
    "# 고유한 값에서 10개를 랜덤으로 선택\n",
    "random_values = random.sample(list(unique_values), k=10)\n",
    "\n",
    "# 랜덤으로 선택된 값에 해당하는 행 추출\n",
    "result = df[df[target_column].isin(random_values)]\n",
    "\n",
    "# 결과 출력\n",
    "print(result)\n"
   ]
  },
  {
   "cell_type": "code",
   "execution_count": null,
   "metadata": {},
   "outputs": [],
   "source": []
  }
 ],
 "metadata": {
  "kernelspec": {
   "display_name": "gj_django_kernel",
   "language": "python",
   "name": "gj_django"
  },
  "language_info": {
   "codemirror_mode": {
    "name": "ipython",
    "version": 3
   },
   "file_extension": ".py",
   "mimetype": "text/x-python",
   "name": "python",
   "nbconvert_exporter": "python",
   "pygments_lexer": "ipython3",
   "version": "3.9.16"
  },
  "orig_nbformat": 4
 },
 "nbformat": 4,
 "nbformat_minor": 2
}
