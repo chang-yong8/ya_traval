{
 "cells": [
  {
   "cell_type": "code",
   "execution_count": 1,
   "metadata": {},
   "outputs": [
    {
     "name": "stdout",
     "output_type": "stream",
     "text": [
      "      순위       업소명                   주소    분류  현지인 검색 수\n",
      "64    65      로렐트리    대구 동구 효동로6길 122-0   외국식      2688\n",
      "115  116   미남장어수성점      대구 수성구 들안로 56-0  전문음식      2189\n",
      "137  138        동봉      대구 동구 팔공로 995-0    한식      1974\n",
      "192  193     여원찜갈비     대구 북구 복현로 182-27    한식      1665\n",
      "265  266    석정한우마을     대구 달서구 조암남로 49-0    한식      1256\n",
      "444  445  행복한갈비대명점      대구 남구 대명로 199-0    한식       626\n",
      "516  517     두찜평리점      대구 서구 평리로 415-0  전문음식       374\n",
      "595  596      화림보쌈   대구 중구 명덕로35길 111-0  전문음식       213\n",
      "624  625  종가대박집평리점      대구 서구 서대구로 80-0    한식       137\n",
      "652  652      삼익동태  대구 서구 달구벌대로337길 7-0    한식        67\n"
     ]
    }
   ],
   "source": [
    "import pandas as pd\n",
    "import random\n",
    "\n",
    "# CSV 파일 경로\n",
    "csv_file_path = \"대구광역시.csv\"\n",
    "\n",
    "# 추출할 컬럼 이름\n",
    "target_column = \"업소명\"\n",
    "\n",
    "# CSV 파일 읽기\n",
    "df = pd.read_csv(csv_file_path)\n",
    "\n",
    "# 해당 컬럼의 고유한 값 추출\n",
    "unique_values = df[target_column].unique()\n",
    "\n",
    "# 고유한 값에서 10개를 랜덤으로 선택\n",
    "random_values = random.sample(list(unique_values), k=10)\n",
    "\n",
    "# 랜덤으로 선택된 값에 해당하는 행 추출\n",
    "result = df[df[target_column].isin(random_values)]\n",
    "\n",
    "# 결과 출력\n",
    "print(result)\n"
   ]
  },
  {
   "cell_type": "code",
   "execution_count": null,
   "metadata": {},
   "outputs": [],
   "source": []
  }
 ],
 "metadata": {
  "kernelspec": {
   "display_name": "gj_django_kernel",
   "language": "python",
   "name": "gj_django"
  },
  "language_info": {
   "codemirror_mode": {
    "name": "ipython",
    "version": 3
   },
   "file_extension": ".py",
   "mimetype": "text/x-python",
   "name": "python",
   "nbconvert_exporter": "python",
   "pygments_lexer": "ipython3",
   "version": "3.9.16"
  },
  "orig_nbformat": 4
 },
 "nbformat": 4,
 "nbformat_minor": 2
}
