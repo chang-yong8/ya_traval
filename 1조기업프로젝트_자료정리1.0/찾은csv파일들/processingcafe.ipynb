{
 "cells": [
  {
   "cell_type": "code",
   "execution_count": 6,
   "metadata": {},
   "outputs": [
    {
     "name": "stderr",
     "output_type": "stream",
     "text": [
      "C:\\Users\\bleudrake\\AppData\\Local\\Temp\\ipykernel_21960\\156405588.py:18: DtypeWarning: Columns (39,44,45) have mixed types. Specify dtype option on import or set low_memory=False.\n",
      "  df = pd.read_csv(csv_file, encoding=\"cp949\")\n"
     ]
    },
    {
     "ename": "GeocoderInsufficientPrivileges",
     "evalue": "Non-successful status code 403",
     "output_type": "error",
     "traceback": [
      "\u001b[1;31m---------------------------------------------------------------------------\u001b[0m",
      "\u001b[1;31mAdapterHTTPError\u001b[0m                          Traceback (most recent call last)",
      "File \u001b[1;32mc:\\Users\\bleudrake\\anaconda3\\envs\\gj_django\\lib\\site-packages\\geopy\\geocoders\\base.py:368\u001b[0m, in \u001b[0;36mGeocoder._call_geocoder\u001b[1;34m(self, url, callback, timeout, is_json, headers)\u001b[0m\n\u001b[0;32m    367\u001b[0m \u001b[39mif\u001b[39;00m is_json:\n\u001b[1;32m--> 368\u001b[0m     result \u001b[39m=\u001b[39m \u001b[39mself\u001b[39;49m\u001b[39m.\u001b[39;49madapter\u001b[39m.\u001b[39;49mget_json(url, timeout\u001b[39m=\u001b[39;49mtimeout, headers\u001b[39m=\u001b[39;49mreq_headers)\n\u001b[0;32m    369\u001b[0m \u001b[39melse\u001b[39;00m:\n",
      "File \u001b[1;32mc:\\Users\\bleudrake\\anaconda3\\envs\\gj_django\\lib\\site-packages\\geopy\\adapters.py:447\u001b[0m, in \u001b[0;36mRequestsAdapter.get_json\u001b[1;34m(self, url, timeout, headers)\u001b[0m\n\u001b[0;32m    446\u001b[0m \u001b[39mdef\u001b[39;00m \u001b[39mget_json\u001b[39m(\u001b[39mself\u001b[39m, url, \u001b[39m*\u001b[39m, timeout, headers):\n\u001b[1;32m--> 447\u001b[0m     resp \u001b[39m=\u001b[39m \u001b[39mself\u001b[39;49m\u001b[39m.\u001b[39;49m_request(url, timeout\u001b[39m=\u001b[39;49mtimeout, headers\u001b[39m=\u001b[39;49mheaders)\n\u001b[0;32m    448\u001b[0m     \u001b[39mtry\u001b[39;00m:\n",
      "File \u001b[1;32mc:\\Users\\bleudrake\\anaconda3\\envs\\gj_django\\lib\\site-packages\\geopy\\adapters.py:475\u001b[0m, in \u001b[0;36mRequestsAdapter._request\u001b[1;34m(self, url, timeout, headers)\u001b[0m\n\u001b[0;32m    474\u001b[0m     \u001b[39mif\u001b[39;00m resp\u001b[39m.\u001b[39mstatus_code \u001b[39m>\u001b[39m\u001b[39m=\u001b[39m \u001b[39m400\u001b[39m:\n\u001b[1;32m--> 475\u001b[0m         \u001b[39mraise\u001b[39;00m AdapterHTTPError(\n\u001b[0;32m    476\u001b[0m             \u001b[39m\"\u001b[39m\u001b[39mNon-successful status code \u001b[39m\u001b[39m%s\u001b[39;00m\u001b[39m\"\u001b[39m \u001b[39m%\u001b[39m resp\u001b[39m.\u001b[39mstatus_code,\n\u001b[0;32m    477\u001b[0m             status_code\u001b[39m=\u001b[39mresp\u001b[39m.\u001b[39mstatus_code,\n\u001b[0;32m    478\u001b[0m             headers\u001b[39m=\u001b[39mresp\u001b[39m.\u001b[39mheaders,\n\u001b[0;32m    479\u001b[0m             text\u001b[39m=\u001b[39mresp\u001b[39m.\u001b[39mtext,\n\u001b[0;32m    480\u001b[0m         )\n\u001b[0;32m    482\u001b[0m \u001b[39mreturn\u001b[39;00m resp\n",
      "\u001b[1;31mAdapterHTTPError\u001b[0m: Non-successful status code 403",
      "\nThe above exception was the direct cause of the following exception:\n",
      "\u001b[1;31mGeocoderInsufficientPrivileges\u001b[0m            Traceback (most recent call last)",
      "Cell \u001b[1;32mIn[6], line 38\u001b[0m\n\u001b[0;32m     35\u001b[0m output_file_path \u001b[39m=\u001b[39m \u001b[39m'\u001b[39m\u001b[39m전국 일반음식점 정보.csv\u001b[39m\u001b[39m'\u001b[39m\n\u001b[0;32m     37\u001b[0m \u001b[39m# 함수를 호출하여 데이터를 추출하고 새로운 파일을 생성합니다.\u001b[39;00m\n\u001b[1;32m---> 38\u001b[0m extract_columns_with_coordinates(csv_file_path, address_column_name, columns_to_extract, output_file_path)\n",
      "Cell \u001b[1;32mIn[6], line 24\u001b[0m, in \u001b[0;36mextract_columns_with_coordinates\u001b[1;34m(csv_file, address_column, columns, output_file)\u001b[0m\n\u001b[0;32m     21\u001b[0m extracted_data \u001b[39m=\u001b[39m df[columns]\n\u001b[0;32m     23\u001b[0m \u001b[39m# 도로명 주소 컬럼을 기반으로 위경도를 추출합니다.\u001b[39;00m\n\u001b[1;32m---> 24\u001b[0m extracted_data[\u001b[39m'\u001b[39m\u001b[39mlatitude\u001b[39m\u001b[39m'\u001b[39m], extracted_data[\u001b[39m'\u001b[39m\u001b[39mlongitude\u001b[39m\u001b[39m'\u001b[39m] \u001b[39m=\u001b[39m \u001b[39mzip\u001b[39m(\u001b[39m*\u001b[39mdf[address_column]\u001b[39m.\u001b[39;49mmap(get_latitude_longitude))\n\u001b[0;32m     26\u001b[0m \u001b[39m# 새로운 CSV 파일로 저장합니다.\u001b[39;00m\n\u001b[0;32m     27\u001b[0m extracted_data\u001b[39m.\u001b[39mto_csv(output_file, index\u001b[39m=\u001b[39m\u001b[39mFalse\u001b[39;00m)\n",
      "File \u001b[1;32mc:\\Users\\bleudrake\\anaconda3\\envs\\gj_django\\lib\\site-packages\\pandas\\core\\series.py:4393\u001b[0m, in \u001b[0;36mSeries.map\u001b[1;34m(self, arg, na_action)\u001b[0m\n\u001b[0;32m   4314\u001b[0m \u001b[39mdef\u001b[39;00m \u001b[39mmap\u001b[39m(\n\u001b[0;32m   4315\u001b[0m     \u001b[39mself\u001b[39m,\n\u001b[0;32m   4316\u001b[0m     arg: Callable \u001b[39m|\u001b[39m Mapping \u001b[39m|\u001b[39m Series,\n\u001b[0;32m   4317\u001b[0m     na_action: Literal[\u001b[39m\"\u001b[39m\u001b[39mignore\u001b[39m\u001b[39m\"\u001b[39m] \u001b[39m|\u001b[39m \u001b[39mNone\u001b[39;00m \u001b[39m=\u001b[39m \u001b[39mNone\u001b[39;00m,\n\u001b[0;32m   4318\u001b[0m ) \u001b[39m-\u001b[39m\u001b[39m>\u001b[39m Series:\n\u001b[0;32m   4319\u001b[0m \u001b[39m    \u001b[39m\u001b[39m\"\"\"\u001b[39;00m\n\u001b[0;32m   4320\u001b[0m \u001b[39m    Map values of Series according to an input mapping or function.\u001b[39;00m\n\u001b[0;32m   4321\u001b[0m \n\u001b[1;32m   (...)\u001b[0m\n\u001b[0;32m   4391\u001b[0m \u001b[39m    dtype: object\u001b[39;00m\n\u001b[0;32m   4392\u001b[0m \u001b[39m    \"\"\"\u001b[39;00m\n\u001b[1;32m-> 4393\u001b[0m     new_values \u001b[39m=\u001b[39m \u001b[39mself\u001b[39;49m\u001b[39m.\u001b[39;49m_map_values(arg, na_action\u001b[39m=\u001b[39;49mna_action)\n\u001b[0;32m   4394\u001b[0m     \u001b[39mreturn\u001b[39;00m \u001b[39mself\u001b[39m\u001b[39m.\u001b[39m_constructor(new_values, index\u001b[39m=\u001b[39m\u001b[39mself\u001b[39m\u001b[39m.\u001b[39mindex, copy\u001b[39m=\u001b[39m\u001b[39mFalse\u001b[39;00m)\u001b[39m.\u001b[39m__finalize__(\n\u001b[0;32m   4395\u001b[0m         \u001b[39mself\u001b[39m, method\u001b[39m=\u001b[39m\u001b[39m\"\u001b[39m\u001b[39mmap\u001b[39m\u001b[39m\"\u001b[39m\n\u001b[0;32m   4396\u001b[0m     )\n",
      "File \u001b[1;32mc:\\Users\\bleudrake\\anaconda3\\envs\\gj_django\\lib\\site-packages\\pandas\\core\\base.py:924\u001b[0m, in \u001b[0;36mIndexOpsMixin._map_values\u001b[1;34m(self, mapper, na_action)\u001b[0m\n\u001b[0;32m    921\u001b[0m         \u001b[39mraise\u001b[39;00m \u001b[39mValueError\u001b[39;00m(msg)\n\u001b[0;32m    923\u001b[0m \u001b[39m# mapper is a function\u001b[39;00m\n\u001b[1;32m--> 924\u001b[0m new_values \u001b[39m=\u001b[39m map_f(values, mapper)\n\u001b[0;32m    926\u001b[0m \u001b[39mreturn\u001b[39;00m new_values\n",
      "File \u001b[1;32mc:\\Users\\bleudrake\\anaconda3\\envs\\gj_django\\lib\\site-packages\\pandas\\_libs\\lib.pyx:2834\u001b[0m, in \u001b[0;36mpandas._libs.lib.map_infer\u001b[1;34m()\u001b[0m\n",
      "Cell \u001b[1;32mIn[6], line 6\u001b[0m, in \u001b[0;36mget_latitude_longitude\u001b[1;34m(address)\u001b[0m\n\u001b[0;32m      4\u001b[0m \u001b[39mdef\u001b[39;00m \u001b[39mget_latitude_longitude\u001b[39m(address):\n\u001b[0;32m      5\u001b[0m     geolocator \u001b[39m=\u001b[39m Nominatim(user_agent\u001b[39m=\u001b[39m\u001b[39m\"\u001b[39m\u001b[39mgeoapiExercises\u001b[39m\u001b[39m\"\u001b[39m)\n\u001b[1;32m----> 6\u001b[0m     location \u001b[39m=\u001b[39m geolocator\u001b[39m.\u001b[39;49mgeocode(address)\n\u001b[0;32m      8\u001b[0m     \u001b[39mif\u001b[39;00m location \u001b[39mis\u001b[39;00m \u001b[39mNone\u001b[39;00m:\n\u001b[0;32m      9\u001b[0m         \u001b[39mreturn\u001b[39;00m \u001b[39mNone\u001b[39;00m, \u001b[39mNone\u001b[39;00m\n",
      "File \u001b[1;32mc:\\Users\\bleudrake\\anaconda3\\envs\\gj_django\\lib\\site-packages\\geopy\\geocoders\\nominatim.py:297\u001b[0m, in \u001b[0;36mNominatim.geocode\u001b[1;34m(self, query, exactly_one, timeout, limit, addressdetails, language, geometry, extratags, country_codes, viewbox, bounded, featuretype, namedetails)\u001b[0m\n\u001b[0;32m    295\u001b[0m logger\u001b[39m.\u001b[39mdebug(\u001b[39m\"\u001b[39m\u001b[39m%s\u001b[39;00m\u001b[39m.geocode: \u001b[39m\u001b[39m%s\u001b[39;00m\u001b[39m\"\u001b[39m, \u001b[39mself\u001b[39m\u001b[39m.\u001b[39m\u001b[39m__class__\u001b[39m\u001b[39m.\u001b[39m\u001b[39m__name__\u001b[39m, url)\n\u001b[0;32m    296\u001b[0m callback \u001b[39m=\u001b[39m partial(\u001b[39mself\u001b[39m\u001b[39m.\u001b[39m_parse_json, exactly_one\u001b[39m=\u001b[39mexactly_one)\n\u001b[1;32m--> 297\u001b[0m \u001b[39mreturn\u001b[39;00m \u001b[39mself\u001b[39;49m\u001b[39m.\u001b[39;49m_call_geocoder(url, callback, timeout\u001b[39m=\u001b[39;49mtimeout)\n",
      "File \u001b[1;32mc:\\Users\\bleudrake\\anaconda3\\envs\\gj_django\\lib\\site-packages\\geopy\\geocoders\\base.py:388\u001b[0m, in \u001b[0;36mGeocoder._call_geocoder\u001b[1;34m(self, url, callback, timeout, is_json, headers)\u001b[0m\n\u001b[0;32m    386\u001b[0m         \u001b[39mreturn\u001b[39;00m callback(result)\n\u001b[0;32m    387\u001b[0m \u001b[39mexcept\u001b[39;00m \u001b[39mException\u001b[39;00m \u001b[39mas\u001b[39;00m error:\n\u001b[1;32m--> 388\u001b[0m     res \u001b[39m=\u001b[39m \u001b[39mself\u001b[39;49m\u001b[39m.\u001b[39;49m_adapter_error_handler(error)\n\u001b[0;32m    389\u001b[0m     \u001b[39mif\u001b[39;00m res \u001b[39mis\u001b[39;00m NONE_RESULT:\n\u001b[0;32m    390\u001b[0m         \u001b[39mreturn\u001b[39;00m \u001b[39mNone\u001b[39;00m\n",
      "File \u001b[1;32mc:\\Users\\bleudrake\\anaconda3\\envs\\gj_django\\lib\\site-packages\\geopy\\geocoders\\base.py:411\u001b[0m, in \u001b[0;36mGeocoder._adapter_error_handler\u001b[1;34m(self, error)\u001b[0m\n\u001b[0;32m    407\u001b[0m         \u001b[39mraise\u001b[39;00m exc_cls(\n\u001b[0;32m    408\u001b[0m             \u001b[39mstr\u001b[39m(error), retry_after\u001b[39m=\u001b[39mget_retry_after(error\u001b[39m.\u001b[39mheaders)\n\u001b[0;32m    409\u001b[0m         ) \u001b[39mfrom\u001b[39;00m \u001b[39merror\u001b[39;00m\n\u001b[0;32m    410\u001b[0m     \u001b[39melse\u001b[39;00m:\n\u001b[1;32m--> 411\u001b[0m         \u001b[39mraise\u001b[39;00m exc_cls(\u001b[39mstr\u001b[39m(error)) \u001b[39mfrom\u001b[39;00m \u001b[39merror\u001b[39;00m\n\u001b[0;32m    412\u001b[0m \u001b[39melse\u001b[39;00m:\n\u001b[0;32m    413\u001b[0m     res \u001b[39m=\u001b[39m \u001b[39mself\u001b[39m\u001b[39m.\u001b[39m_geocoder_exception_handler(error)\n",
      "\u001b[1;31mGeocoderInsufficientPrivileges\u001b[0m: Non-successful status code 403"
     ]
    }
   ],
   "source": [
    "import pandas as pd\n",
    "from geopy.geocoders import Nominatim\n",
    "\n",
    "def get_latitude_longitude(address):\n",
    "    geolocator = Nominatim(user_agent=\"geoapiExercises\")\n",
    "    location = geolocator.geocode(address)\n",
    "    \n",
    "    if location is None:\n",
    "        return None, None\n",
    "    \n",
    "    latitude = location.latitude\n",
    "    longitude = location.longitude\n",
    "    \n",
    "    return latitude, longitude\n",
    "\n",
    "def extract_columns_with_coordinates(csv_file, address_column, columns, output_file):\n",
    "    # CSV 파일을 DataFrame으로 로드합니다.\n",
    "    df = pd.read_csv(csv_file, encoding=\"cp949\")\n",
    "    \n",
    "    # 추출할 컬럼들만 선택하여 새로운 DataFrame을 만듭니다.\n",
    "    extracted_data = df[columns]\n",
    "    \n",
    "    # 도로명 주소 컬럼을 기반으로 위경도를 추출합니다.\n",
    "    extracted_data['latitude'], extracted_data['longitude'] = zip(*df[address_column].map(get_latitude_longitude))\n",
    "    \n",
    "    # 새로운 CSV 파일로 저장합니다.\n",
    "    extracted_data.to_csv(output_file, index=False)\n",
    "\n",
    "# 추출할 컬럼들과 도로명 주소 컬럼을 지정합니다.\n",
    "columns_to_extract = ['사업장명', '도로명전체주소', '업태구분명']\n",
    "address_column_name = '도로명전체주소'\n",
    "\n",
    "# 추출할 CSV 파일과 새로운 파일 이름을 지정합니다.\n",
    "csv_file_path = '전국 일반음식점 정보_폐업제외.csv'\n",
    "output_file_path = '전국 일반음식점 정보.csv'\n",
    "\n",
    "# 함수를 호출하여 데이터를 추출하고 새로운 파일을 생성합니다.\n",
    "extract_columns_with_coordinates(csv_file_path, address_column_name, columns_to_extract, output_file_path)\n"
   ]
  },
  {
   "cell_type": "code",
   "execution_count": 2,
   "metadata": {},
   "outputs": [
    {
     "name": "stdout",
     "output_type": "stream",
     "text": [
      "Collecting geopy\n",
      "  Downloading geopy-2.3.0-py3-none-any.whl (119 kB)\n",
      "     -------------------------------------- 119.8/119.8 kB 6.8 MB/s eta 0:00:00\n",
      "Collecting geographiclib<3,>=1.52\n",
      "  Downloading geographiclib-2.0-py3-none-any.whl (40 kB)\n",
      "     ---------------------------------------- 40.3/40.3 kB ? eta 0:00:00\n",
      "Installing collected packages: geographiclib, geopy\n",
      "Successfully installed geographiclib-2.0 geopy-2.3.0\n"
     ]
    }
   ],
   "source": [
    "!pip install geopy\n"
   ]
  },
  {
   "cell_type": "code",
   "execution_count": 5,
   "metadata": {},
   "outputs": [
    {
     "name": "stdout",
     "output_type": "stream",
     "text": [
      "Requirement already satisfied: geopy in c:\\users\\bleudrake\\anaconda3\\envs\\gj_django\\lib\\site-packages (2.3.0)Note: you may need to restart the kernel to use updated packages.\n",
      "\n",
      "Requirement already satisfied: geographiclib<3,>=1.52 in c:\\users\\bleudrake\\anaconda3\\envs\\gj_django\\lib\\site-packages (from geopy) (2.0)\n"
     ]
    }
   ],
   "source": [
    "pip install --upgrade geopy\n"
   ]
  },
  {
   "cell_type": "code",
   "execution_count": null,
   "metadata": {},
   "outputs": [],
   "source": []
  }
 ],
 "metadata": {
  "kernelspec": {
   "display_name": "gj_django_kernel",
   "language": "python",
   "name": "gj_django"
  },
  "language_info": {
   "codemirror_mode": {
    "name": "ipython",
    "version": 3
   },
   "file_extension": ".py",
   "mimetype": "text/x-python",
   "name": "python",
   "nbconvert_exporter": "python",
   "pygments_lexer": "ipython3",
   "version": "3.9.16"
  },
  "orig_nbformat": 4
 },
 "nbformat": 4,
 "nbformat_minor": 2
}
