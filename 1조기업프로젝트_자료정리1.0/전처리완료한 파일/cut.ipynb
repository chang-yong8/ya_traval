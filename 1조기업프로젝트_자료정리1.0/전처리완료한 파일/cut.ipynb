{
 "cells": [
  {
   "cell_type": "code",
   "execution_count": 5,
   "metadata": {},
   "outputs": [
    {
     "name": "stdout",
     "output_type": "stream",
     "text": [
      "           사업장명                       도로명주소     업종구분\n",
      "0            야자        광주광역시 북구 중흥로91번길 12       여관업\n",
      "1        엔(N)모텔            광주광역시 북구 앰코로 30       여관업\n",
      "2       디오앤에스임동           광주광역시 북구 신임로 2-1   숙박업(생활)\n",
      "3         에로스모텔       광주광역시 북구 저불로70번길 6-6       여관업\n",
      "4       클라우드인호텔        광주광역시 북구 경양로165번길 8       여관업\n",
      "...         ...                         ...      ...\n",
      "29741   더 로얄 호텔  경상남도 고성군 회화면 남해안대로 4146-10     관광호텔\n",
      "29742    바람아래돌집     제주특별자치도 제주시 한경면 판포4길 23  숙박업(생활)\n",
      "29743     파스텔모텔      강원도 홍천군 화촌면 구룡령로 13-27      여관업\n",
      "29744      엔드호텔         경상남도 거창군 가조면 온천길 37   숙박업 기타\n",
      "29745  영덕웰빙문화센터   경상북도 영덕군 남정면 동해대로 4165-66   숙박업 기타\n",
      "\n",
      "[29746 rows x 3 columns]\n"
     ]
    }
   ],
   "source": [
    "import pandas as pd\n",
    "\n",
    "# 엑셀 파일을 읽어옵니다.\n",
    "df = pd.read_excel('숙소.xlsx')\n",
    "\n",
    "# 제거할 컬럼의 이름을 지정합니다.\n",
    "column_name = '도로명주소'\n",
    "\n",
    "# 쉼표와 쉼표 이후의 문자열, 그리고 괄호를 제거하는 함수를 정의합니다.\n",
    "def remove_comma_and_text_after_comma(value):\n",
    "    if isinstance(value, str):\n",
    "        comma_index = value.find(',')\n",
    "        if comma_index != -1:\n",
    "            value = value[:comma_index]\n",
    "        parenthesis_index = value.find('(')\n",
    "        if parenthesis_index != -1:\n",
    "            value = value[:parenthesis_index]\n",
    "    return value\n",
    "\n",
    "# 빈 값을 제거하고 쉼표와 쉼표 이후의 문자열, 그리고 괄호를 제거합니다.\n",
    "df[column_name] = df[column_name].apply(remove_comma_and_text_after_comma).dropna()\n",
    "\n",
    "# 결과를 확인합니다.\n",
    "print(df)\n"
   ]
  },
  {
   "cell_type": "code",
   "execution_count": 2,
   "metadata": {},
   "outputs": [],
   "source": [
    "df.to_excel('숙박업소 최신화.xlsx')"
   ]
  },
  {
   "cell_type": "code",
   "execution_count": null,
   "metadata": {},
   "outputs": [],
   "source": []
  }
 ],
 "metadata": {
  "kernelspec": {
   "display_name": "gj_django_kernel",
   "language": "python",
   "name": "gj_django"
  },
  "language_info": {
   "codemirror_mode": {
    "name": "ipython",
    "version": 3
   },
   "file_extension": ".py",
   "mimetype": "text/x-python",
   "name": "python",
   "nbconvert_exporter": "python",
   "pygments_lexer": "ipython3",
   "version": "3.9.16"
  },
  "orig_nbformat": 4
 },
 "nbformat": 4,
 "nbformat_minor": 2
}
