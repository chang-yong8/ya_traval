{
 "cells": [
  {
   "cell_type": "code",
   "execution_count": 1,
   "metadata": {},
   "outputs": [
    {
     "name": "stdout",
     "output_type": "stream",
     "text": [
      "데이터 수정 및 삭제가 완료되었습니다.\n"
     ]
    }
   ],
   "source": [
    "import pandas as pd\n",
    "\n",
    "excel_file = \"전국 관광지 3만개데이터.xlsx\"  # 실제 파일 경로로 변경해야 합니다.\n",
    "sheet_name = \"Sheet1\"  # 수정할 시트의 이름으로 변경해야 합니다.\n",
    "column_name = \"분류명\"  # 수정하고자 하는 컬럼의 이름으로 변경해야 합니다.\n",
    "\n",
    "# 수정 및 삭제할 데이터 정보\n",
    "target_data = {\n",
    "    \"동물원\": \"동물원\",\n",
    "    \"아쿠아리움\": \"아쿠아리움\",\n",
    "    \"테마공원/대형놀이공원\": \"테마공원/대형놀이공원\",\n",
    "    \"먹거리/패션거리\": \"먹거리/패션거리\",\n",
    "    \"지역사찰\": \"지역사찰\",\n",
    "    \"유명사찰\": \"유명사찰\",\n",
    "    \"관광농원/허브마을\": \"관광농원/허브마을\",\n",
    "    \"식물원\": \"식물원\",\n",
    "    \"서원/향교/서당\": \"서원/향교/서당\",\n",
    "    \"숲\": \"숲\",\n",
    "    \"휴양림/수목원\": \"휴양림/수목원\",\n",
    "    \"대형호수/저수지\": \"대형호수/저수지\",\n",
    "    \"지역호수/저수지\": \"지역호수/저수지\",\n",
    "    \"지역축제\": \"지역축제\",\n",
    "    \"일반관광지\": \"일반관광지\",\n",
    "    \"유명관광지\": \"유명관광지\",\n",
    "    \"일반유원지/일반놀이공원\": \"일반유원지/일반놀이공원\",\n",
    "    \"해수욕장\": \"해수욕장\",\n",
    "    \"폭포/계곡\": \"폭포/계곡\",\n",
    "    \"카지노\": None,  # None으로 지정하여 해당 데이터를 삭제할 수 있습니다.\n",
    "    \"세븐럭카지노\": None,\n",
    "    \"파라다이스카지노\": None,\n",
    "    \"토속/특산물/기념품매장\": None,\n",
    "}\n",
    "\n",
    "# 엑셀 파일 읽기\n",
    "df = pd.read_excel(excel_file, sheet_name=sheet_name)\n",
    "\n",
    "# 데이터 수정 및 삭제\n",
    "df[column_name].replace(target_data, inplace=True)\n",
    "df.dropna(subset=[column_name], inplace=True)\n",
    "\n",
    "# 수정된 내용을 엑셀 파일에 저장\n",
    "df.to_excel(excel_file, index=False)\n",
    "\n",
    "print(\"데이터 수정 및 삭제가 완료되었습니다.\")\n"
   ]
  },
  {
   "cell_type": "code",
   "execution_count": null,
   "metadata": {},
   "outputs": [],
   "source": []
  }
 ],
 "metadata": {
  "kernelspec": {
   "display_name": "gj_django_kernel",
   "language": "python",
   "name": "gj_django"
  },
  "language_info": {
   "codemirror_mode": {
    "name": "ipython",
    "version": 3
   },
   "file_extension": ".py",
   "mimetype": "text/x-python",
   "name": "python",
   "nbconvert_exporter": "python",
   "pygments_lexer": "ipython3",
   "version": "3.9.16"
  },
  "orig_nbformat": 4
 },
 "nbformat": 4,
 "nbformat_minor": 2
}
